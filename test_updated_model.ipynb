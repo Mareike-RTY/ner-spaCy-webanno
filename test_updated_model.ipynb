{
 "cells": [
  {
   "cell_type": "code",
   "execution_count": null,
   "metadata": {},
   "outputs": [],
   "source": [
    "## \"\"\"################  TESTING UPDATED MODEL  ################\"\"\"\n",
    "import spacy\n",
    "from spacy import displacy\n",
    "from pprint import pprint\n",
    "from collections import Counter\n",
    "import os\n",
    "from pathlib import Path\n",
    "\n",
    "# load updated NER model:\n",
    "updated_model = \"/home/mareike/updated_model/model-best\"\n",
    "nlp2 = spacy.load(updated_model)\n",
    "\n",
    "# create empty lists to work with:\n",
    "doc2 = []\n",
    "fileNames = []\n",
    "\n",
    "# read data and append files to empty lists:\n",
    "for root, dirs, files in os.walk(\"/home/mareike/raw_data/test_data\"):\n",
    "    for name in files:\n",
    "        with open(\"/home/mareike/raw_data/test_data/\"+name, \"r\") as f:\n",
    "            file = f.readlines()\n",
    "            fileNames.append(name)\n",
    "            doc2.append(nlp2(\" \".join(file)))\n",
    "            \n",
    "i = 0\n",
    "for doc in doc2:\n",
    "    print('\\033[1m' + (fileNames[i]))\n",
    "    # apply model on data and visualize:\n",
    "    displacy.render(doc, style=\"ent\")\n",
    "    # count labels:\n",
    "    labels = [x.label_ for x in doc.ents]\n",
    "    print('\\033[1m' + str(Counter(labels)))\n",
    "    i += 1\n",
    "    print(\"\\n\\n\\n\")\n",
    "print(i)"
   ]
  }
 ],
 "metadata": {
  "kernelspec": {
   "display_name": "Python 3",
   "language": "python",
   "name": "python3"
  },
  "language_info": {
   "codemirror_mode": {
    "name": "ipython",
    "version": 3
   },
   "file_extension": ".py",
   "mimetype": "text/x-python",
   "name": "python",
   "nbconvert_exporter": "python",
   "pygments_lexer": "ipython3",
   "version": "3.6.9"
  }
 },
 "nbformat": 4,
 "nbformat_minor": 4
}
