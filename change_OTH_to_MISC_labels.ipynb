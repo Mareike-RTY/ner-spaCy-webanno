{
 "cells": [
  {
   "cell_type": "code",
   "execution_count": null,
   "metadata": {},
   "outputs": [],
   "source": [
    "# imports:\n",
    "import json\n",
    "import os\n",
    "\n",
    "\"\"\"################  CHANGE OTH-LABELS TO MISC-LABELS AND MOVE DATA  ################\"\"\"\n",
    "\n",
    "for root, dirs, files in os.walk('/home/mareike/annotation_test_data'):\n",
    "    for name in dirs:  \n",
    "        file = open(root+'/'+name+'/admin.json', \"rt\")    \n",
    "        txt = file.read()\n",
    "        txt = txt.replace('OTH', 'MISC')\n",
    "        file.close()\n",
    "        string_old = '/home/mareike/final_test_data/'+name+'.json'\n",
    "        string_new = string_old.replace('.txt', '')\n",
    "        fin = open(string_new, \"w\")\n",
    "        fin.write(txt)\n",
    "        fin.close()"
   ]
  }
 ],
 "metadata": {
  "kernelspec": {
   "display_name": "Python 3",
   "language": "python",
   "name": "python3"
  },
  "language_info": {
   "codemirror_mode": {
    "name": "ipython",
    "version": 3
   },
   "file_extension": ".py",
   "mimetype": "text/x-python",
   "name": "python",
   "nbconvert_exporter": "python",
   "pygments_lexer": "ipython3",
   "version": "3.6.9"
  }
 },
 "nbformat": 4,
 "nbformat_minor": 4
}
